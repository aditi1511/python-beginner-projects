{
  "nbformat": 4,
  "nbformat_minor": 0,
  "metadata": {
    "colab": {
      "name": "PlottingPotter",
      "provenance": [],
      "authorship_tag": "ABX9TyPEsTmMvbt/ms1WCgO2i7Vo",
      "include_colab_link": true
    },
    "kernelspec": {
      "name": "python3",
      "display_name": "Python 3"
    }
  },
  "cells": [
    {
      "cell_type": "markdown",
      "metadata": {
        "id": "view-in-github",
        "colab_type": "text"
      },
      "source": [
        "<a href=\"https://colab.research.google.com/github/aditi1511/python-beginner-projects/blob/master/PlottingPotter.ipynb\" target=\"_parent\"><img src=\"https://colab.research.google.com/assets/colab-badge.svg\" alt=\"Open In Colab\"/></a>"
      ]
    },
    {
      "cell_type": "code",
      "metadata": {
        "id": "BXcqu1BHnGF4",
        "colab_type": "code",
        "colab": {}
      },
      "source": [
        "import matplotlib\n",
        "import matplotlib.pyplot as plt\n",
        "import numpy as np\n",
        "import re"
      ],
      "execution_count": 0,
      "outputs": []
    },
    {
      "cell_type": "code",
      "metadata": {
        "id": "n96DzFAvx5uv",
        "colab_type": "code",
        "colab": {}
      },
      "source": [
        "# text to Harry Potter\n",
        "HP_URL ='https://raw.githubusercontent.com/NSF-EC/INFO490Assets/master/src/datasets/books/hp/harryPotter.txt'\n",
        "\n",
        "import requests\n",
        "def read_remote(url):\n",
        "  response = requests.get(url)\n",
        "  response.encoding = 'utf-8'\n",
        "  if response.status_code == requests.codes.ok:\n",
        "      # that is 200\n",
        "      return response.text\n",
        "  return None\n",
        "\n",
        "#text = read_remote(HP_URL) # see lesson.py\n",
        "#print(len(text)) "
      ],
      "execution_count": 0,
      "outputs": []
    },
    {
      "cell_type": "code",
      "metadata": {
        "id": "JKbvFeunc-nG",
        "colab_type": "code",
        "colab": {}
      },
      "source": [
        "def clean_hp(text):\n",
        "  cleaned_index = []\n",
        "  for i in re.finditer(\"Harry Potter and the Sorcerer's Stone\", text):\n",
        "    cleaned_index.append((i.start(),i.end()))\n",
        "  cleaned_index = (cleaned_index[-1])[0]\n",
        "  potter_cleaned = text[cleaned_index::]\n",
        "  return potter_cleaned\n",
        "  \n",
        "  "
      ],
      "execution_count": 0,
      "outputs": []
    },
    {
      "cell_type": "code",
      "metadata": {
        "id": "Batufr4eqMEf",
        "colab_type": "code",
        "colab": {}
      },
      "source": [
        "def split_into_chapters(text):\n",
        "  import re \n",
        "  clean_text = clean_hp(text)\n",
        "  clean_text.strip()\n",
        "  idxs_of_chap = []\n",
        "  for i in re.finditer('CHAPTER\\s[A-Z]+$', clean_text, re.M):\n",
        "    idxs_of_chap.append((i.start(),i.end()))\n",
        "  chapter_text = []\n",
        "  for i in range(len(idxs_of_chap)-1):\n",
        "    idx_start = idxs_of_chap[i][1]+1\n",
        "    idx_end = idxs_of_chap[i+1][0]\n",
        "    chapter_text.append(clean_text[idx_start:idx_end])\n",
        "  idx_start = idxs_of_chap[-1][1]+1\n",
        "  chapter_text.append(clean_text[idx_start:])\n",
        "  \n",
        "  return chapter_text"
      ],
      "execution_count": 0,
      "outputs": []
    },
    {
      "cell_type": "code",
      "metadata": {
        "id": "9yzcSw88rZxw",
        "colab_type": "code",
        "colab": {}
      },
      "source": [
        "text = read_remote(HP_URL)\n",
        "hp   = clean_hp(text)\n",
        "chp  = split_into_chapters(hp)\n",
        "\n",
        "#print(len(chp))     # 17\n",
        "#print(chp[0][0:18]) # THE BOY WHO LIVED\n",
        "#print(chp[1][0:18]) # THE VANISHING GLAS "
      ],
      "execution_count": 0,
      "outputs": []
    },
    {
      "cell_type": "code",
      "metadata": {
        "id": "1TYyrbeAtAsx",
        "colab_type": "code",
        "colab": {}
      },
      "source": [
        "def get_character_counts_v1(chapters):\n",
        "  import numpy as np\n",
        "  harry = np.char.count(chapters, 'Harry')\n",
        "  ron = np.char.count(chapters, 'Ron')\n",
        "  hagrid = np.char.count(chapters, 'Hagrid')\n",
        "  hermione = np.char.count(chapters, 'Hermione')\n",
        "  return np.array([harry,ron,hagrid,hermione])"
      ],
      "execution_count": 0,
      "outputs": []
    },
    {
      "cell_type": "code",
      "metadata": {
        "id": "K_OjHTH6tPTP",
        "colab_type": "code",
        "colab": {}
      },
      "source": [
        "def simple_graph_v1(plots):\n",
        "  fig = plt.figure()\n",
        "  subplot = fig.add_subplot(1,1,1)\n",
        "\n",
        "  subplot.plot(plots[0])\n",
        "  subplot.plot(plots[1])\n",
        "  subplot.plot(plots[2])\n",
        "  subplot.plot(plots[3]) \n",
        "\n",
        "  # this is important for testing\n",
        "  return fig"
      ],
      "execution_count": 0,
      "outputs": []
    },
    {
      "cell_type": "code",
      "metadata": {
        "id": "Oju4ThhvtbFx",
        "colab_type": "code",
        "colab": {}
      },
      "source": [
        "def pipeline_v1():\n",
        "\n",
        "  text = read_remote(HP_URL)\n",
        "  hp   = clean_hp(text)\n",
        "  chapters = split_into_chapters(hp)\n",
        "\n",
        "  plots = get_character_counts_v1(chapters)\n",
        "  fig = simple_graph_v1(plots)\n",
        "  return fig"
      ],
      "execution_count": 0,
      "outputs": []
    },
    {
      "cell_type": "code",
      "metadata": {
        "id": "AnrybPh_t4cZ",
        "colab_type": "code",
        "colab": {}
      },
      "source": [
        "def get_character_counts_v2(chapters, names):\n",
        "\n",
        "  # use the same function as v1\n",
        "  # use a comprehension to easily get things done:\n",
        "  py_data = [np.char.count(chapters, n) for n in names]\n",
        "  counts = np.cumsum(py_data,axis=1)\n",
        "  counts = np.transpose(counts)\n",
        "  return counts"
      ],
      "execution_count": 0,
      "outputs": []
    },
    {
      "cell_type": "code",
      "metadata": {
        "id": "t1tpuHfUt8Oc",
        "colab_type": "code",
        "colab": {}
      },
      "source": [
        "def simple_graph_v2(counts):\n",
        "  fig = plt.figure()\n",
        "  subplot = fig.add_subplot(1,1,1)\n",
        "  subplot.plot(counts)\n",
        "  return fig  # return the figure"
      ],
      "execution_count": 0,
      "outputs": []
    },
    {
      "cell_type": "code",
      "metadata": {
        "id": "04bd6zTkt9Nd",
        "colab_type": "code",
        "colab": {}
      },
      "source": [
        "def pipeline_v2(names):\n",
        "\n",
        "  text = read_remote(HP_URL)\n",
        "  hp   = clean_hp(text)\n",
        "  chapters = split_into_chapters(hp)\n",
        "  np_hp = get_character_counts_v2(chapters, names)\n",
        "  fig   = simple_graph_v2(np_hp)\n",
        " \n",
        "  return fig"
      ],
      "execution_count": 0,
      "outputs": []
    }
  ]
}