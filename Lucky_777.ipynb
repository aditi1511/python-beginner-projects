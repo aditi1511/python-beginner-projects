{
  "nbformat": 4,
  "nbformat_minor": 0,
  "metadata": {
    "colab": {
      "name": "Lucky-777",
      "provenance": [],
      "authorship_tag": "ABX9TyMoH96YtjKq6vBO7EiHj8cp",
      "include_colab_link": true
    },
    "kernelspec": {
      "name": "python3",
      "display_name": "Python 3"
    }
  },
  "cells": [
    {
      "cell_type": "markdown",
      "metadata": {
        "id": "view-in-github",
        "colab_type": "text"
      },
      "source": [
        "<a href=\"https://colab.research.google.com/github/aditi1511/python-beginner-projects/blob/master/Lucky_777.ipynb\" target=\"_parent\"><img src=\"https://colab.research.google.com/assets/colab-badge.svg\" alt=\"Open In Colab\"/></a>"
      ]
    },
    {
      "cell_type": "code",
      "metadata": {
        "id": "-SbXD-BYhRPY",
        "colab_type": "code",
        "outputId": "1dd8ae1c-3026-4371-fae3-6f9959f680a2",
        "colab": {
          "base_uri": "https://localhost:8080/",
          "height": 357
        }
      },
      "source": [
        "import requests\n",
        "\n",
        "# either version will work\n",
        "#PG_HAMLET_URL = 'https://raw.githubusercontent.com/NSF-EC/INFO490Assets/master/src/datasets/hamlet/pg2265.txt'\n",
        "\n",
        "\n",
        "PG_HAMLET_URL = 'http://www.gutenberg.org/cache/epub/2265/pg2265.txt'\n",
        "\n",
        "def read_remote(url):\n",
        "  # assumes the url is already encoded (see urllib.parse.urlencode)\n",
        "  with requests.get(url) as response:\n",
        "    response.encoding = 'utf-8'\n",
        "    if response.status_code == requests.codes.ok: \n",
        "      # that is 200\n",
        "      return response.text\n",
        "  return None\n",
        "\n",
        "def get_hash(text):\n",
        "  import hashlib\n",
        "  return hashlib.md5(text.encode('utf-8')).hexdigest()\n",
        "\n",
        "def get_hamlet():\n",
        "  hamlet_text = read_remote(PG_HAMLET_URL)\n",
        "  return hamlet_text\n",
        "\n",
        "ANSWER_TO_LIFE = 42\n",
        "def answer_to_life():\n",
        "  text = get_hamlet()\n",
        "  idx = text.find('To be,')\n",
        "  response = text[idx:idx+ANSWER_TO_LIFE]\n",
        "  return response\n",
        "\n",
        "def clean_hamlet(text):\n",
        "  import re\n",
        "  clean_start = []\n",
        "  for w in re.finditer(\"The Tragedie of Hamlet\", text):\n",
        "    clean_start.append((w.start(),w.end()))\n",
        "  clean_start = (clean_start[-1])[0]\n",
        "  clean_hamlet = text[clean_start:-1:]\n",
        "  clean_hamlet.strip()\n",
        "  return clean_hamlet\n",
        "\n",
        "def find_lucky(text, num):\n",
        "  import re\n",
        "  pattern = r'[A-za-z\\']+'\n",
        "  pattern = re.compile(pattern)\n",
        "  new_text = pattern.findall(text.lower())\n",
        "  lucky_list = [t for t in new_text if len(t) == num]\n",
        "  lucky_list = list(dict.fromkeys([t for t in lucky_list if lucky_list.count(t) == num]))\n",
        "  if len(lucky_list) == num:\n",
        "    lucky_list.sort()\n",
        "    return lucky_list\n",
        "  return []\n",
        "\n",
        "def test_777():\n",
        "  hamlet = clean_hamlet(get_hamlet())\n",
        "  print(find_lucky(hamlet, 7))\n",
        "  for n in range(2,10):\n",
        "    print(n, find_lucky(hamlet, n))\n",
        "\n",
        "#test_777()\n",
        "\n",
        "#print(clean_hamlet(get_hamlet())[:100])\n",
        "#print(clean_hamlet(get_hamlet())[-100:])\n",
        "#print(len(clean_hamlet(get_hamlet())))\n",
        "\n"
      ],
      "execution_count": 0,
      "outputs": [
        {
          "output_type": "stream",
          "text": [
            "['beseech', 'brother', 'hamlets', 'letters', 'musicke', 'receiue', 'through']\n",
            "2 []\n",
            "3 []\n",
            "4 []\n",
            "5 []\n",
            "6 []\n",
            "7 ['beseech', 'brother', 'hamlets', 'letters', 'musicke', 'receiue', 'through']\n",
            "8 []\n",
            "9 []\n",
            "The Tragedie of Hamlet\n",
            "\n",
            "Actus Primus. Scoena Prima.\n",
            "\n",
            "Enter Barnardo and Francisco two Centinels.\n",
            " which, a Peale of Ordenance are shot\n",
            "off.\n",
            "\n",
            "\n",
            "FINIS. The tragedie of HAMLET, Prince of Denmarke.\n",
            "167770\n"
          ],
          "name": "stdout"
        }
      ]
    }
  ]
}