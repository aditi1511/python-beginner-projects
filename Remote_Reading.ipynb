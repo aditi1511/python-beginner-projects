{
  "nbformat": 4,
  "nbformat_minor": 0,
  "metadata": {
    "colab": {
      "name": "Remote Reading",
      "provenance": [],
      "collapsed_sections": [],
      "authorship_tag": "ABX9TyMfbPxVEsJZjFsl88UAe+HR",
      "include_colab_link": true
    },
    "kernelspec": {
      "name": "python3",
      "display_name": "Python 3"
    }
  },
  "cells": [
    {
      "cell_type": "markdown",
      "metadata": {
        "id": "view-in-github",
        "colab_type": "text"
      },
      "source": [
        "<a href=\"https://colab.research.google.com/github/aditi1511/python-beginner-projects/blob/master/Remote_Reading.ipynb\" target=\"_parent\"><img src=\"https://colab.research.google.com/assets/colab-badge.svg\" alt=\"Open In Colab\"/></a>"
      ]
    },
    {
      "cell_type": "code",
      "metadata": {
        "id": "VZS_VYl4YJDx",
        "colab_type": "code",
        "colab": {}
      },
      "source": [
        ""
      ],
      "execution_count": 0,
      "outputs": []
    },
    {
      "cell_type": "code",
      "metadata": {
        "id": "QXpxmxUWY1P5",
        "colab_type": "code",
        "outputId": "7defc17f-890a-4517-9898-10c85a50bf8a",
        "colab": {
          "base_uri": "https://localhost:8080/",
          "height": 49
        }
      },
      "source": [
        "import urllib \n",
        "from urllib.request import urlopen \n",
        "\n",
        "def build_google_drive_url(doc_id):\n",
        "\n",
        "  DRIVE1  = \"https://docs.google.com/uc\" \n",
        "  DRIVE2  = \"https://drive.google.com/uc\"  \n",
        "\n",
        "  baseurl = DRIVE1 # DRIVE2 works as well \n",
        "  params = {\"export\" : \"download\",\n",
        "            \"id\"     : doc_id}\n",
        " \n",
        "  url = baseurl + \"?\" + urllib.parse.urlencode(params) \n",
        "  return url \n",
        "\n",
        "def read_google_doc(doc_id): \n",
        "  docum = build_google_drive_url(doc_id)\n",
        "  rd = urllib.request.urlopen(docum)\n",
        "  contents = rd.read()\n",
        "  #text = contents.decode('utf-8')\n",
        "\n",
        "  stuff = open(str(doc_id) + \".txt\", 'w')\n",
        "  stuff.write(str(contents))\n",
        "  stuff.close()\n",
        "\n",
        "  return contents\n",
        "  \n",
        "   \n",
        "   # build a URL for the document with doc_id\n",
        "   # read the remote document (see remote IO lesson)\n",
        "   # save the contents to a local file \n",
        "   # close the local file\n",
        "   # return the contents of the document \n",
        "\n",
        "def test():\n",
        "\n",
        "  HUCK_ID = \"13F68-nA4W-0t3eNuIodh8fxTMZV5Nlpp\"\n",
        "  text = read_google_doc(HUCK_ID)\n",
        "\n",
        "  print(len(text), text[0:200])\n",
        "\n",
        "  text = open(HUCK_ID + \".txt\", \"r\").read()\n",
        "  print(len(text))\n",
        "\n",
        "test()\n",
        "\n"
      ],
      "execution_count": 0,
      "outputs": [
        {
          "output_type": "stream",
          "text": [
            "566232 b\"CHAPTER I.\\n\\nYOU don't know about me without you have read a book by the name of The\\nAdventures of Tom Sawyer; but that ain't no matter.  That book was made\\nby Mr. Mark Twain, and he told the truth, ma\"\n",
            "583101\n"
          ],
          "name": "stdout"
        }
      ]
    }
  ]
}